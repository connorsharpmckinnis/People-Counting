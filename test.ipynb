{
 "cells": [
  {
   "cell_type": "code",
   "execution_count": 5,
   "id": "f2f650ad",
   "metadata": {},
   "outputs": [],
   "source": [
    "from ultralytics import YOLO\n",
    "import cv2\n",
    "import time"
   ]
  },
  {
   "cell_type": "code",
   "execution_count": 6,
   "id": "6cd0d48b",
   "metadata": {},
   "outputs": [],
   "source": [
    "model = YOLO(\"yolov8n.pt\")"
   ]
  },
  {
   "cell_type": "code",
   "execution_count": 4,
   "id": "8fe20b34",
   "metadata": {},
   "outputs": [],
   "source": [
    "def take_picture():\n",
    "    cam = cv2.VideoCapture(0)\n",
    "    ret, img = cam.read()  # capture a single frame\n",
    "    if not ret:\n",
    "        print(\"Camera capture failed\")\n",
    "        return None\n",
    "    cam.release()\n",
    "    return img  # returns a NumPy array in memory\n"
   ]
  },
  {
   "cell_type": "code",
   "execution_count": 11,
   "id": "78c06926",
   "metadata": {},
   "outputs": [],
   "source": [
    "def count_people(confidence_threshold=0.6):\n",
    "    img = take_picture()\n",
    "    if img is None:\n",
    "        return 0\n",
    "\n",
    "    results = model.predict(img, conf=confidence_threshold, verbose=False)\n",
    "    annotated_img = results[0].plot()  # returns an image array with boxes drawn\n",
    "\n",
    "    cv2.imshow(\"Detections\", annotated_img)\n",
    "    cv2.waitKey(1)  # actually refreshes the window\n",
    "\n",
    "    people = sum(int(cls) == 0 for cls in results[0].boxes.cls)\n",
    "\n",
    "    time.sleep(2)  # pause so you can see the frame\n",
    "    cv2.destroyAllWindows()\n",
    "\n",
    "    return people"
   ]
  },
  {
   "cell_type": "code",
   "execution_count": 12,
   "id": "1c4d8b69",
   "metadata": {},
   "outputs": [
    {
     "name": "stdout",
     "output_type": "stream",
     "text": [
      "1 people in the image\n",
      "1 people in the image\n"
     ]
    },
    {
     "ename": "KeyboardInterrupt",
     "evalue": "",
     "output_type": "error",
     "traceback": [
      "\u001b[31m---------------------------------------------------------------------------\u001b[39m",
      "\u001b[31mKeyboardInterrupt\u001b[39m                         Traceback (most recent call last)",
      "\u001b[36mCell\u001b[39m\u001b[36m \u001b[39m\u001b[32mIn[12]\u001b[39m\u001b[32m, line 5\u001b[39m\n\u001b[32m      2\u001b[39m people = count_people()\n\u001b[32m      3\u001b[39m \u001b[38;5;28mprint\u001b[39m(\u001b[33mf\u001b[39m\u001b[33m\"\u001b[39m\u001b[38;5;132;01m{\u001b[39;00mpeople\u001b[38;5;132;01m}\u001b[39;00m\u001b[33m people in the image\u001b[39m\u001b[33m\"\u001b[39m)\n\u001b[32m----> \u001b[39m\u001b[32m5\u001b[39m \u001b[43mtime\u001b[49m\u001b[43m.\u001b[49m\u001b[43msleep\u001b[49m\u001b[43m(\u001b[49m\u001b[32;43m5\u001b[39;49m\u001b[43m)\u001b[49m\n",
      "\u001b[31mKeyboardInterrupt\u001b[39m: "
     ]
    }
   ],
   "source": [
    "\n",
    "\n",
    "while True: \n",
    "    people = count_people()\n",
    "    print(f\"{people} people in the image\")\n",
    "    \n",
    "    time.sleep(5)\n",
    "\n",
    "    "
   ]
  }
 ],
 "metadata": {
  "kernelspec": {
   "display_name": "court-ocupancy (3.13.5)",
   "language": "python",
   "name": "python3"
  },
  "language_info": {
   "codemirror_mode": {
    "name": "ipython",
    "version": 3
   },
   "file_extension": ".py",
   "mimetype": "text/x-python",
   "name": "python",
   "nbconvert_exporter": "python",
   "pygments_lexer": "ipython3",
   "version": "3.13.5"
  }
 },
 "nbformat": 4,
 "nbformat_minor": 5
}
